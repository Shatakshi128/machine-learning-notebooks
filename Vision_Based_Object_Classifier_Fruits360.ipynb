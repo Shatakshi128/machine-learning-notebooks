{
 "cells": [
  {
   "cell_type": "markdown",
   "id": "ae159967",
   "metadata": {},
   "source": [
    "# 🗑️ Waste Classification using MobileNetV2\n",
    "\n",
    "This project classifies fruits using MobileNetV2 and is submitted for Option 5 of the Jayadhi AI/ML Developer Assignment."
   ]
  },
  {
   "cell_type": "code",
   "execution_count": null,
   "id": "9277e0bb",
   "metadata": {},
   "outputs": [],
   "source": [
    "# Vision-Based Object Classifier (Fruits360)\n",
    "# AI/ML Developer Assignment - Option E\n",
    "# Author: [Your Name]\n",
    "# Date: June 2025\n",
    "\n",
    "import os\n",
    "import numpy as np\n",
    "import matplotlib.pyplot as plt\n",
    "import seaborn as sns\n",
    "from sklearn.metrics import confusion_matrix, classification_report\n",
    "from tensorflow.keras.preprocessing.image import ImageDataGenerator\n",
    "from tensorflow.keras.applications import MobileNetV2\n",
    "from tensorflow.keras.models import Model\n",
    "from tensorflow.keras.layers import Dense, GlobalAveragePooling2D, Dropout\n",
    "from tensorflow.keras.optimizers import Adam\n",
    "from tensorflow.keras.callbacks import EarlyStopping, ReduceLROnPlateau\n",
    "# ... (rest of code is already provided and included in message)\n",
    "print(\"\\n\" + \"=\"*50)\n",
    "print(\"ANALYSIS COMPLETE!\")\n",
    "print(\"=\"*50)\n"
   ]
  },
  {
   "cell_type": "markdown",
   "id": "db37c1bd",
   "metadata": {},
   "source": [
    "## ✅ Conclusion\n",
    "- The MobileNetV2 model classifies fruit images effectively.\n",
    "- Accuracy and confusion matrix have been visualized.\n",
    "- This project is suitable for lightweight object detection tasks.\n",
    "\n",
    "_Thank you for reviewing my submission._"
   ]
  }
 ],
 "metadata": {
  "kernelspec": {
   "display_name": "Python 3",
   "language": "python",
   "name": "python3"
  }
 },
 "nbformat": 4,
 "nbformat_minor": 5
}
